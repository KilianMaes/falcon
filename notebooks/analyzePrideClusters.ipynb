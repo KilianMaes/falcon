{
 "cells": [
  {
   "cell_type": "code",
   "execution_count": 21,
   "outputs": [],
   "source": [
    "import os\n",
    "import numpy as np\n",
    "import pandas as pd\n",
    "import matplotlib.pyplot as plt\n",
    "\n",
    "from tqdm.notebook import tqdm\n",
    "\n",
    "import spectra_cluster.clustering_parser as clustering_parser\n",
    "import spectrum_utils.plot as sup\n",
    "import nb_utils\n",
    "\n",
    "from ms_io import ms_io\n"
   ],
   "metadata": {
    "collapsed": false,
    "pycharm": {
     "name": "#%%\n"
    }
   }
  },
  {
   "cell_type": "markdown",
   "source": [
    "### Function to parse the clusters contained in a file"
   ],
   "metadata": {
    "collapsed": false
   }
  },
  {
   "cell_type": "code",
   "execution_count": 22,
   "outputs": [],
   "source": [
    "def extract_clusters_stats(file):\n",
    "    parser = clustering_parser.ClusteringParser(file)\n",
    "\n",
    "    totalSp = 0\n",
    "    totalClusteredSp = 0\n",
    "    nClusters = 0 # incremented only if the cluster contains at least 2 spectra\n",
    "    clusters = {}\n",
    "\n",
    "    for cluster in parser:\n",
    "        totalSp = totalSp + cluster.n_spectra\n",
    "        if cluster.n_spectra >= 2:\n",
    "            nClusters = nClusters + 1\n",
    "            totalClusteredSp = totalClusteredSp + cluster.n_spectra\n",
    "            clusters[cluster.id] = []\n",
    "\n",
    "            for sp in cluster._spectra:\n",
    "                _, src_verb, id_verb, _ = sp.title.split('#')\n",
    "                _, _, id = id_verb.split('=')\n",
    "                _, src = src_verb.split('=')\n",
    "                id = int(id) - 1\n",
    "                clusters[cluster.id].append( (src, id) )\n",
    "\n",
    "    avSize = np.mean([len(l) for l in clusters.values()])\n",
    "\n",
    "    return totalSp, totalClusteredSp, nClusters, avSize, clusters\n"
   ],
   "metadata": {
    "collapsed": false,
    "pycharm": {
     "name": "#%%\n"
    }
   }
  },
  {
   "cell_type": "markdown",
   "source": [
    "### Show the stats + plot some clusters"
   ],
   "metadata": {
    "collapsed": false,
    "pycharm": {
     "name": "#%% md\n"
    }
   }
  },
  {
   "cell_type": "code",
   "execution_count": 26,
   "outputs": [
    {
     "name": "stdout",
     "output_type": "stream",
     "text": [
      "Total number of spectra: 463455\n",
      "Total clustered spectra: 12797\n",
      "Proportion of clustered spectra: 2.76%\n",
      "Number of clusters: 5476\n",
      "Average size: 2.34\n"
     ]
    }
   ],
   "source": [
    "dir_clustering = \"prideClusters/Prot_01/fragm_0.05\"\n",
    "clustering_file = os.path.join(dir_clustering, \"0-99_noFiltering.clustering\")\n",
    "\n",
    "totalSp, totalClusteredSp, nClusters, avSize, clusters = extract_clusters_stats(clustering_file)\n",
    "\n",
    "propClusteredSp = totalClusteredSp/totalSp*100\n",
    "print(\"Total number of spectra:\", totalSp)\n",
    "print(\"Total clustered spectra:\", totalClusteredSp)\n",
    "print(\"Proportion of clustered spectra: {0:.2f}%\".format(propClusteredSp))\n",
    "print(\"Number of clusters:\", nClusters)\n",
    "print(\"Average size: {0:.2f}\".format(avSize))\n"
   ],
   "metadata": {
    "collapsed": false,
    "pycharm": {
     "name": "#%%\n"
    }
   }
  },
  {
   "cell_type": "markdown",
   "source": [
    "### Plot some clusters"
   ],
   "metadata": {
    "collapsed": false,
    "pycharm": {
     "name": "#%% md\n"
    }
   }
  },
  {
   "cell_type": "code",
   "source": [
    "dir_mgf = \"../datasets/CCLE_Protein_01\"\n",
    "export_path = os.path.join('prideClusters/Prot_01/fragm_0.05', 'fig_0-99999')\n",
    "limit = 100\n",
    "\n",
    "counter = 0\n",
    "df_dic = {'gl_cl_id': [],\n",
    "          'gl_min_sim': [],\n",
    "          'gl_max_sim': [],\n",
    "          'gl_av_sim': [],\n",
    "          'gl_prec_diff': [],\n",
    "          'cl_size': []}\n",
    "\n",
    "for id_cl, cl in tqdm(clusters.items(), total=limit):\n",
    "    sps = []\n",
    "    for (filename, scanid) in cl:\n",
    "        sp = ms_io.get_one_spectrum(os.path.join(dir_mgf, filename), scanid)\n",
    "        sps.append(sp)\n",
    "\n",
    "    nsp = len(sps)\n",
    "    fig, axs = plt.subplots(nsp-1, 1, figsize=(12, 6*(nsp-1)))\n",
    "    fig.suptitle(f\"Cluster {id_cl}\")\n",
    "\n",
    "    # Plot the spectra\n",
    "    for j in range(1, len(sps)):\n",
    "        ax = axs if nsp == 2 else axs[j-1]\n",
    "        spectrum_top, spectrum_bottom = sps[0], sps[j]\n",
    "        ax.set_title(\"({}/{}) : {} and {}\".format(\n",
    "            j, nsp-1,\n",
    "            spectrum_top.identifier,\n",
    "            spectrum_bottom.identifier\n",
    "        ))\n",
    "        sup.mirror(spectrum_top, spectrum_bottom, ax=ax)\n",
    "\n",
    "    plt.savefig(os.path.join(export_path, f'{id_cl}.png'), dpi=300)\n",
    "    plt.close()\n",
    "\n",
    "    # Compute the similarity\n",
    "    sim = []\n",
    "    prec_diff = []\n",
    "    for i in range(nsp-1):\n",
    "        for j in range(i+1, nsp):\n",
    "            s = nb_utils.hdvectors_distance( (sps[i], sps[j]) )\n",
    "            sim.append(s)\n",
    "\n",
    "            prec_diff.append(abs(sps[i].precursor_mz - sps[j].precursor_mz))\n",
    "\n",
    "    df_dic['gl_cl_id'].append(id_cl)\n",
    "    df_dic['gl_min_sim'].append(min(sim))\n",
    "    df_dic['gl_max_sim'].append(max(sim))\n",
    "    df_dic['gl_av_sim'].append(np.mean(sim))\n",
    "    df_dic['gl_prec_diff'].append(max(prec_diff))\n",
    "    df_dic['cl_size'].append(nsp)\n",
    "\n",
    "    counter = counter + 1\n",
    "    if counter > limit:\n",
    "        break"
   ],
   "metadata": {
    "collapsed": false,
    "pycharm": {
     "name": "#%%\n"
    }
   },
   "execution_count": 24,
   "outputs": [
    {
     "data": {
      "text/plain": "  0%|          | 0/100 [00:00<?, ?it/s]",
      "application/vnd.jupyter.widget-view+json": {
       "version_major": 2,
       "version_minor": 0,
       "model_id": "53b14f660a23451aac52b7a52698cbd2"
      }
     },
     "metadata": {},
     "output_type": "display_data"
    }
   ]
  },
  {
   "cell_type": "code",
   "execution_count": 25,
   "outputs": [],
   "source": [
    "df = pd.DataFrame(data=df_dic)\n",
    "df.columns = ['cluster_id', 'min_distance', 'max_distance', 'av_distane', 'max_prec_mz_diff', 'cluster_size']\n",
    "df.to_csv(os.path.join(export_path, \"distances.csv\"))"
   ],
   "metadata": {
    "collapsed": false,
    "pycharm": {
     "name": "#%%\n"
    }
   }
  }
 ],
 "metadata": {
  "kernelspec": {
   "name": "falcon",
   "language": "python",
   "display_name": "falcon"
  },
  "language_info": {
   "codemirror_mode": {
    "name": "ipython",
    "version": 2
   },
   "file_extension": ".py",
   "mimetype": "text/x-python",
   "name": "python",
   "nbconvert_exporter": "python",
   "pygments_lexer": "ipython2",
   "version": "2.7.6"
  }
 },
 "nbformat": 4,
 "nbformat_minor": 0
}