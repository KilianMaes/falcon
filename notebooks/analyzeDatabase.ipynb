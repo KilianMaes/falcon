{
 "cells": [
  {
   "cell_type": "markdown",
   "source": [
    "# Analyze the SQL database\n",
    "\n",
    "This notebook can be used to extract some information (number of spectra, precursor masses' distribution...) from a\n",
    "SQL file generated with the MsBackendSqlite backend of the RformassSpectrometry package."
   ],
   "metadata": {
    "collapsed": false,
    "pycharm": {
     "name": "#%% md\n"
    }
   }
  },
  {
   "cell_type": "code",
   "execution_count": 8,
   "metadata": {},
   "outputs": [
    {
     "name": "stdout",
     "output_type": "stream",
     "text": [
      "/home/maesk/miniconda3/envs/falcon/bin/python\n"
     ]
    }
   ],
   "source": [
    "import sys\n",
    "import os\n",
    "import time\n",
    "import sqlite3\n",
    "import numpy as np\n",
    "import matplotlib.pyplot as plt\n",
    "\n",
    "print(sys.executable)"
   ]
  },
  {
   "cell_type": "markdown",
   "source": [
    "### Establish the connection to the DB"
   ],
   "metadata": {
    "collapsed": false,
    "pycharm": {
     "name": "#%% md\n"
    }
   }
  },
  {
   "cell_type": "code",
   "execution_count": 9,
   "metadata": {
    "pycharm": {
     "name": "#%%\n"
    }
   },
   "outputs": [],
   "source": [
    "file = \"/media/maesk/WD/MS/erwinia/erwinia.db\"\n",
    "figPath = \"database\" # Relative path where the figures should be saved\n",
    "prefix = \"erwinia_\" # Prefix to include in the names of the figure images\n",
    "\n",
    "conn = sqlite3.connect(file)\n",
    "c = conn.cursor()"
   ]
  },
  {
   "cell_type": "markdown",
   "source": [
    "### Count the number of spectra for each level"
   ],
   "metadata": {
    "collapsed": false,
    "pycharm": {
     "name": "#%% md\n"
    }
   }
  },
  {
   "cell_type": "code",
   "execution_count": 10,
   "outputs": [
    {
     "name": "stdout",
     "output_type": "stream",
     "text": [
      "Time needed 0.04 seconds\n",
      "MS2 : 6103 spectra\n",
      "Total : 6103 spectra\n"
     ]
    }
   ],
   "source": [
    "start = time.time()\n",
    "\n",
    "c.execute(f\"SELECT msLevel, COUNT(_pkey) FROM msdata GROUP BY msLevel ORDER BY msLevel\")\n",
    "nSpectraMs = c.fetchall()\n",
    "print(\"Time needed {0:.2f} seconds\".format(time.time()-start)) # ~4983 seconds\n",
    "\n",
    "levelsLabels = [\"MS\"+str(s[0]) for s in nSpectraMs]\n",
    "levelsNSpectra = [s[1] for s in nSpectraMs]\n",
    "\n",
    "for l, n in zip(levelsLabels, levelsNSpectra):\n",
    "    print(l, \":\", n, \"spectra\")\n",
    "print(\"Total :\", sum(levelsNSpectra), \"spectra\")"
   ],
   "metadata": {
    "collapsed": false,
    "pycharm": {
     "name": "#%%\n"
    }
   }
  },
  {
   "cell_type": "code",
   "execution_count": 11,
   "outputs": [
    {
     "data": {
      "text/plain": "<Figure size 432x288 with 1 Axes>",
      "image/png": "[encoded data removed]"
     },
     "metadata": {},
     "output_type": "display_data"
    }
   ],
   "source": [
    "nLevels = len(levelsLabels)\n",
    "fig, ax = plt.subplots()\n",
    "explode = [0]*nLevels\n",
    "explode[levelsLabels.index(\"MS2\")]\n",
    "ax.pie(levelsNSpectra, labels=levelsLabels, autopct='%1.1f%%', explode=explode)\n",
    "fig.savefig(os.path.join(figPath, prefix+\"msLevelsPieChart.png\"), dpi=200, transparent=False)\n",
    "plt.show()"
   ],
   "metadata": {
    "collapsed": false,
    "pycharm": {
     "name": "#%%\n"
    }
   }
  },
  {
   "cell_type": "markdown",
   "source": [
    "### List the input files, and the corresponding _pkey ranges"
   ],
   "metadata": {
    "collapsed": false,
    "pycharm": {
     "name": "#%% md\n"
    }
   }
  },
  {
   "cell_type": "code",
   "execution_count": 12,
   "outputs": [],
   "source": [
    "# Only consider the MS2 spectra\n",
    "c.execute(f\"SELECT dataOrigin, MIN(_pkey), MAX(_pkey), COUNT(_pkey) FROM msdata WHERE msLevel = 2 GROUP BY dataOrigin\")\n",
    "fileRanges = c.fetchall()"
   ],
   "metadata": {
    "collapsed": false,
    "pycharm": {
     "name": "#%%\n"
    }
   }
  },
  {
   "cell_type": "code",
   "execution_count": 13,
   "outputs": [],
   "source": [
    "totalMS2 = 0\n",
    "f = open(os.path.join(figPath, prefix+\"filesFractions.csv\"), \"w\")\n",
    "f.write(\"dataOrigin,minPKey,maxPKey,nMS2,total\\n\")\n",
    "for dataOrigin, minPKey, maxPKey, nMS2 in fileRanges:\n",
    "    totalMS2 = totalMS2 + nMS2\n",
    "    f.write(\"{},{},{},{},{}\\n\".format(dataOrigin, minPKey, maxPKey, nMS2, totalMS2))\n",
    "f.close()"
   ],
   "metadata": {
    "collapsed": false,
    "pycharm": {
     "name": "#%%\n"
    }
   }
  },
  {
   "cell_type": "markdown",
   "source": [
    "### Verify the precursorMz distribution"
   ],
   "metadata": {
    "collapsed": false,
    "pycharm": {
     "name": "#%% md\n"
    }
   }
  },
  {
   "cell_type": "markdown",
   "source": [
    "Extract all the precursor mz values from the database"
   ],
   "metadata": {
    "collapsed": false,
    "pycharm": {
     "name": "#%% md\n"
    }
   }
  },
  {
   "cell_type": "code",
   "execution_count": 14,
   "outputs": [],
   "source": [
    "c.execute(f\"SELECT precursorMz, precursorCharge FROM msdata ORDER BY precursorMz\")\n",
    "res = c.fetchall()\n",
    "\n",
    "# Build a dictionary for each charge (which are in different buckets in falcon)\n",
    "dic = {}\n",
    "for r in res:\n",
    "    if not r[1] in dic:\n",
    "        dic[r[1]] = []\n",
    "    # r[2] is the precursor charge, r[1] the m/z bin\n",
    "    dic[r[1]].append(r[0])\n",
    "plt.rcParams.update({'font.size': 15})"
   ],
   "metadata": {
    "collapsed": false,
    "pycharm": {
     "name": "#%%\n"
    }
   }
  },
  {
   "cell_type": "markdown",
   "source": [
    "Plot the distribution of the precursor mz's for each charge"
   ],
   "metadata": {
    "collapsed": false,
    "pycharm": {
     "name": "#%% md\n"
    }
   }
  },
  {
   "cell_type": "code",
   "source": [
    "key_max = max(dic.keys(), key=(lambda k: dic[k]))\n",
    "key_min = min(dic.keys(), key=(lambda k: dic[k]))\n",
    "charges = range(key_min, key_max+1)\n",
    "\n",
    "fig, axs = plt.subplots(2,3,figsize=(12,6))\n",
    "fig.suptitle(\"Distribution of the spectra in each bucket\")\n",
    "for c in charges:\n",
    "    ind = c-key_min\n",
    "    min_mz = int(np.floor(min(dic[c])))\n",
    "    max_mz = int(np.ceil(max(dic[c])))\n",
    "    range_buckets = range(min_mz, max_mz+1)\n",
    "    ax = axs[int(ind/3),ind%3]\n",
    "    ax.hist(dic[c], range_buckets)\n",
    "    ax.set(xlabel=\"Precursor m/z+\", ylabel=\"Number of spectra\")\n",
    "    #ax.label_outer()\n",
    "    ax.set_title(f\"Charge {c}\")\n",
    "fig.delaxes(axs[1,2])\n",
    "fig.tight_layout()\n",
    "plt.savefig(os.path.join(figPath, prefix+\"spectra_per_bucket.png\"), dpi=300)\n",
    "plt.show()"
   ],
   "metadata": {
    "collapsed": false,
    "pycharm": {
     "name": "#%%\n"
    }
   },
   "execution_count": 15,
   "outputs": [
    {
     "data": {
      "text/plain": "<Figure size 864x432 with 5 Axes>",
      "image/png": "[encoded data removed]"
     },
     "metadata": {
      "needs_background": "light"
     },
     "output_type": "display_data"
    }
   ]
  },
  {
   "cell_type": "markdown",
   "source": [
    "From the previous request, we can deduce the number of spectra for each charge"
   ],
   "metadata": {
    "collapsed": false,
    "pycharm": {
     "name": "#%% md\n"
    }
   }
  },
  {
   "cell_type": "code",
   "execution_count": 16,
   "outputs": [
    {
     "data": {
      "text/plain": "<Figure size 576x288 with 1 Axes>",
      "image/png": "[encoded data removed]"
     },
     "metadata": {
      "needs_background": "light"
     },
     "output_type": "display_data"
    }
   ],
   "source": [
    "#Plot the number of spectra for each charge\n",
    "nspectra = []\n",
    "for c in charges:\n",
    "    nspectra.append(len(dic[c]))\n",
    "\n",
    "fig, ax = plt.subplots(figsize=(8,4))\n",
    "ax.bar(charges, nspectra)\n",
    "ax.set_title(\"Number of spectra by charge\")\n",
    "ax.set(xlabel=\"Charge\", ylabel=\"Number of spectra\")\n",
    "plt.savefig(os.path.join(figPath, prefix+\"spectra_by_charge.png\"), dpi=300, bbox_inches='tight')\n",
    "plt.show()"
   ],
   "metadata": {
    "collapsed": false,
    "pycharm": {
     "name": "#%%\n"
    }
   }
  }
 ],
 "metadata": {
  "kernelspec": {
   "name": "falcon",
   "language": "python",
   "display_name": "falcon"
  },
  "language_info": {
   "codemirror_mode": {
    "name": "ipython",
    "version": 3
   },
   "file_extension": ".py",
   "mimetype": "text/x-python",
   "name": "python",
   "nbconvert_exporter": "python",
   "pygments_lexer": "ipython3",
   "version": "3.8.5"
  }
 },
 "nbformat": 4,
 "nbformat_minor": 1
}