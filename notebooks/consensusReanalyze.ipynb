{
 "cells": [
  {
   "cell_type": "code",
   "execution_count": 49,
   "metadata": {
    "collapsed": true
   },
   "outputs": [],
   "source": [
    "import time\n",
    "\n",
    "import numpy as np\n",
    "import pandas as pd\n",
    "import matplotlib.pyplot as plt\n",
    "from collections import Counter\n",
    "\n",
    "import urllib3\n",
    "import xml.etree.ElementTree as ET\n",
    "from tqdm.notebook import tqdm"
   ]
  },
  {
   "cell_type": "code",
   "execution_count": 50,
   "outputs": [
    {
     "name": "stdout",
     "output_type": "stream",
     "text": [
      "Initial length: 10067\n",
      "FDR: 0.0\n",
      "Final length: 168\n"
     ]
    },
    {
     "data": {
      "text/plain": "                       sequence spectrumID  chargeState  rank  passThreshold  \\\n0    QLEAEKMELQSALEEAEASLEHEEGK  index=978            3     1           True   \n107             KAITDAAMMAEELKK  index=804            3     1           True   \n108             KAITDAAMMAEELKK  index=804            3     1           True   \n109             KAITDAAMMAEELKK  index=804            3     1           True   \n110             KAITDAAMMAEELKK  index=804            3     1           True   \n..                          ...        ...          ...   ...            ...   \n56              AMGIMNSFVNDIFER  index=664            2     1           True   \n57              AMGIMNSFVNDIFER  index=664            2     1           True   \n58              AMGIMNSFVNDIFER  index=664            2     1           True   \n52              AMGIMNSFVNDIFER  index=664            2     1           True   \n59              AMGIMNSFVNDIFER  index=664            2     1           True   \n\n     experimentalMassToCharge  calculatedMassToCharge  \\\n0                  976.453613              976.453552   \n107                561.288086              561.288147   \n108                561.288086              561.288147   \n109                561.288086              561.288147   \n110                561.288086              561.288147   \n..                        ...                     ...   \n56                 888.408752              888.408203   \n57                 888.408752              888.408203   \n58                 888.408752              888.408203   \n52                 888.408752              888.408203   \n59                 888.408752              888.408203   \n\n                                peptideRef  modNum  isDecoy  ...  \\\n0    Pep_[-17QLEAEKM+16ELQSALEEAEASLEHEEGK       2    False  ...   \n107              Pep_KAITDAAM+16M+16AEELKK       2    False  ...   \n108              Pep_KAITDAAM+16M+16AEELKK       2    False  ...   \n109              Pep_KAITDAAM+16M+16AEELKK       2    False  ...   \n110              Pep_KAITDAAM+16M+16AEELKK       2    False  ...   \n..                                     ...     ...      ...  ...   \n56               Pep_AM+16GIM+16NSFVNDIFER       2    False  ...   \n57               Pep_AM+16GIM+16NSFVNDIFER       2    False  ...   \n58               Pep_AM+16GIM+16NSFVNDIFER       2    False  ...   \n52               Pep_AM+16GIM+16NSFVNDIFER       2    False  ...   \n59               Pep_AM+16GIM+16NSFVNDIFER       2    False  ...   \n\n     MS.GF.EValue MS.GF.QValue  MS.GF.PepQValue  \\\n0    2.883160e-17          0.0              0.0   \n107  1.450279e-06          0.0              0.0   \n108  1.450279e-06          0.0              0.0   \n109  1.450279e-06          0.0              0.0   \n110  1.450279e-06          0.0              0.0   \n..            ...          ...              ...   \n56   2.502414e-10          0.0              0.0   \n57   2.502414e-10          0.0              0.0   \n58   2.502414e-10          0.0              0.0   \n52   2.502414e-10          0.0              0.0   \n59   2.502414e-10          0.0              0.0   \n\n                             modPeptideRef        modName    modMass  \\\n0    Pep_[-17QLEAEKM+16ELQSALEEAEASLEHEEGK  Gln->pyro-Glu -17.026549   \n107              Pep_KAITDAAM+16M+16AEELKK      Oxidation  15.994915   \n108              Pep_KAITDAAM+16M+16AEELKK      Oxidation  15.994915   \n109              Pep_KAITDAAM+16M+16AEELKK      Oxidation  15.994915   \n110              Pep_KAITDAAM+16M+16AEELKK      Oxidation  15.994915   \n..                                     ...            ...        ...   \n56               Pep_AM+16GIM+16NSFVNDIFER      Oxidation  15.994915   \n57               Pep_AM+16GIM+16NSFVNDIFER      Oxidation  15.994915   \n58               Pep_AM+16GIM+16NSFVNDIFER      Oxidation  15.994915   \n52               Pep_AM+16GIM+16NSFVNDIFER      Oxidation  15.994915   \n59               Pep_AM+16GIM+16NSFVNDIFER      Oxidation  15.994915   \n\n     modLocation subOriginalResidue subReplacementResidue  subLocation  \n0            0.0                NaN                   NaN          NaN  \n107          8.0                NaN                   NaN          NaN  \n108          9.0                NaN                   NaN          NaN  \n109          8.0                NaN                   NaN          NaN  \n110          9.0                NaN                   NaN          NaN  \n..           ...                ...                   ...          ...  \n56           2.0                NaN                   NaN          NaN  \n57           5.0                NaN                   NaN          NaN  \n58           2.0                NaN                   NaN          NaN  \n52           2.0                NaN                   NaN          NaN  \n59           5.0                NaN                   NaN          NaN  \n\n[168 rows x 35 columns]",
      "text/html": "<div>\n<style scoped>\n    .dataframe tbody tr th:only-of-type {\n        vertical-align: middle;\n    }\n\n    .dataframe tbody tr th {\n        vertical-align: top;\n    }\n\n    .dataframe thead th {\n        text-align: right;\n    }\n</style>\n<table border=\"1\" class=\"dataframe\">\n  <thead>\n    <tr style=\"text-align: right;\">\n      <th></th>\n      <th>sequence</th>\n      <th>spectrumID</th>\n      <th>chargeState</th>\n      <th>rank</th>\n      <th>passThreshold</th>\n      <th>experimentalMassToCharge</th>\n      <th>calculatedMassToCharge</th>\n      <th>peptideRef</th>\n      <th>modNum</th>\n      <th>isDecoy</th>\n      <th>...</th>\n      <th>MS.GF.EValue</th>\n      <th>MS.GF.QValue</th>\n      <th>MS.GF.PepQValue</th>\n      <th>modPeptideRef</th>\n      <th>modName</th>\n      <th>modMass</th>\n      <th>modLocation</th>\n      <th>subOriginalResidue</th>\n      <th>subReplacementResidue</th>\n      <th>subLocation</th>\n    </tr>\n  </thead>\n  <tbody>\n    <tr>\n      <th>0</th>\n      <td>QLEAEKMELQSALEEAEASLEHEEGK</td>\n      <td>index=978</td>\n      <td>3</td>\n      <td>1</td>\n      <td>True</td>\n      <td>976.453613</td>\n      <td>976.453552</td>\n      <td>Pep_[-17QLEAEKM+16ELQSALEEAEASLEHEEGK</td>\n      <td>2</td>\n      <td>False</td>\n      <td>...</td>\n      <td>2.883160e-17</td>\n      <td>0.0</td>\n      <td>0.0</td>\n      <td>Pep_[-17QLEAEKM+16ELQSALEEAEASLEHEEGK</td>\n      <td>Gln-&gt;pyro-Glu</td>\n      <td>-17.026549</td>\n      <td>0.0</td>\n      <td>NaN</td>\n      <td>NaN</td>\n      <td>NaN</td>\n    </tr>\n    <tr>\n      <th>107</th>\n      <td>KAITDAAMMAEELKK</td>\n      <td>index=804</td>\n      <td>3</td>\n      <td>1</td>\n      <td>True</td>\n      <td>561.288086</td>\n      <td>561.288147</td>\n      <td>Pep_KAITDAAM+16M+16AEELKK</td>\n      <td>2</td>\n      <td>False</td>\n      <td>...</td>\n      <td>1.450279e-06</td>\n      <td>0.0</td>\n      <td>0.0</td>\n      <td>Pep_KAITDAAM+16M+16AEELKK</td>\n      <td>Oxidation</td>\n      <td>15.994915</td>\n      <td>8.0</td>\n      <td>NaN</td>\n      <td>NaN</td>\n      <td>NaN</td>\n    </tr>\n    <tr>\n      <th>108</th>\n      <td>KAITDAAMMAEELKK</td>\n      <td>index=804</td>\n      <td>3</td>\n      <td>1</td>\n      <td>True</td>\n      <td>561.288086</td>\n      <td>561.288147</td>\n      <td>Pep_KAITDAAM+16M+16AEELKK</td>\n      <td>2</td>\n      <td>False</td>\n      <td>...</td>\n      <td>1.450279e-06</td>\n      <td>0.0</td>\n      <td>0.0</td>\n      <td>Pep_KAITDAAM+16M+16AEELKK</td>\n      <td>Oxidation</td>\n      <td>15.994915</td>\n      <td>9.0</td>\n      <td>NaN</td>\n      <td>NaN</td>\n      <td>NaN</td>\n    </tr>\n    <tr>\n      <th>109</th>\n      <td>KAITDAAMMAEELKK</td>\n      <td>index=804</td>\n      <td>3</td>\n      <td>1</td>\n      <td>True</td>\n      <td>561.288086</td>\n      <td>561.288147</td>\n      <td>Pep_KAITDAAM+16M+16AEELKK</td>\n      <td>2</td>\n      <td>False</td>\n      <td>...</td>\n      <td>1.450279e-06</td>\n      <td>0.0</td>\n      <td>0.0</td>\n      <td>Pep_KAITDAAM+16M+16AEELKK</td>\n      <td>Oxidation</td>\n      <td>15.994915</td>\n      <td>8.0</td>\n      <td>NaN</td>\n      <td>NaN</td>\n      <td>NaN</td>\n    </tr>\n    <tr>\n      <th>110</th>\n      <td>KAITDAAMMAEELKK</td>\n      <td>index=804</td>\n      <td>3</td>\n      <td>1</td>\n      <td>True</td>\n      <td>561.288086</td>\n      <td>561.288147</td>\n      <td>Pep_KAITDAAM+16M+16AEELKK</td>\n      <td>2</td>\n      <td>False</td>\n      <td>...</td>\n      <td>1.450279e-06</td>\n      <td>0.0</td>\n      <td>0.0</td>\n      <td>Pep_KAITDAAM+16M+16AEELKK</td>\n      <td>Oxidation</td>\n      <td>15.994915</td>\n      <td>9.0</td>\n      <td>NaN</td>\n      <td>NaN</td>\n      <td>NaN</td>\n    </tr>\n    <tr>\n      <th>...</th>\n      <td>...</td>\n      <td>...</td>\n      <td>...</td>\n      <td>...</td>\n      <td>...</td>\n      <td>...</td>\n      <td>...</td>\n      <td>...</td>\n      <td>...</td>\n      <td>...</td>\n      <td>...</td>\n      <td>...</td>\n      <td>...</td>\n      <td>...</td>\n      <td>...</td>\n      <td>...</td>\n      <td>...</td>\n      <td>...</td>\n      <td>...</td>\n      <td>...</td>\n      <td>...</td>\n    </tr>\n    <tr>\n      <th>56</th>\n      <td>AMGIMNSFVNDIFER</td>\n      <td>index=664</td>\n      <td>2</td>\n      <td>1</td>\n      <td>True</td>\n      <td>888.408752</td>\n      <td>888.408203</td>\n      <td>Pep_AM+16GIM+16NSFVNDIFER</td>\n      <td>2</td>\n      <td>False</td>\n      <td>...</td>\n      <td>2.502414e-10</td>\n      <td>0.0</td>\n      <td>0.0</td>\n      <td>Pep_AM+16GIM+16NSFVNDIFER</td>\n      <td>Oxidation</td>\n      <td>15.994915</td>\n      <td>2.0</td>\n      <td>NaN</td>\n      <td>NaN</td>\n      <td>NaN</td>\n    </tr>\n    <tr>\n      <th>57</th>\n      <td>AMGIMNSFVNDIFER</td>\n      <td>index=664</td>\n      <td>2</td>\n      <td>1</td>\n      <td>True</td>\n      <td>888.408752</td>\n      <td>888.408203</td>\n      <td>Pep_AM+16GIM+16NSFVNDIFER</td>\n      <td>2</td>\n      <td>False</td>\n      <td>...</td>\n      <td>2.502414e-10</td>\n      <td>0.0</td>\n      <td>0.0</td>\n      <td>Pep_AM+16GIM+16NSFVNDIFER</td>\n      <td>Oxidation</td>\n      <td>15.994915</td>\n      <td>5.0</td>\n      <td>NaN</td>\n      <td>NaN</td>\n      <td>NaN</td>\n    </tr>\n    <tr>\n      <th>58</th>\n      <td>AMGIMNSFVNDIFER</td>\n      <td>index=664</td>\n      <td>2</td>\n      <td>1</td>\n      <td>True</td>\n      <td>888.408752</td>\n      <td>888.408203</td>\n      <td>Pep_AM+16GIM+16NSFVNDIFER</td>\n      <td>2</td>\n      <td>False</td>\n      <td>...</td>\n      <td>2.502414e-10</td>\n      <td>0.0</td>\n      <td>0.0</td>\n      <td>Pep_AM+16GIM+16NSFVNDIFER</td>\n      <td>Oxidation</td>\n      <td>15.994915</td>\n      <td>2.0</td>\n      <td>NaN</td>\n      <td>NaN</td>\n      <td>NaN</td>\n    </tr>\n    <tr>\n      <th>52</th>\n      <td>AMGIMNSFVNDIFER</td>\n      <td>index=664</td>\n      <td>2</td>\n      <td>1</td>\n      <td>True</td>\n      <td>888.408752</td>\n      <td>888.408203</td>\n      <td>Pep_AM+16GIM+16NSFVNDIFER</td>\n      <td>2</td>\n      <td>False</td>\n      <td>...</td>\n      <td>2.502414e-10</td>\n      <td>0.0</td>\n      <td>0.0</td>\n      <td>Pep_AM+16GIM+16NSFVNDIFER</td>\n      <td>Oxidation</td>\n      <td>15.994915</td>\n      <td>2.0</td>\n      <td>NaN</td>\n      <td>NaN</td>\n      <td>NaN</td>\n    </tr>\n    <tr>\n      <th>59</th>\n      <td>AMGIMNSFVNDIFER</td>\n      <td>index=664</td>\n      <td>2</td>\n      <td>1</td>\n      <td>True</td>\n      <td>888.408752</td>\n      <td>888.408203</td>\n      <td>Pep_AM+16GIM+16NSFVNDIFER</td>\n      <td>2</td>\n      <td>False</td>\n      <td>...</td>\n      <td>2.502414e-10</td>\n      <td>0.0</td>\n      <td>0.0</td>\n      <td>Pep_AM+16GIM+16NSFVNDIFER</td>\n      <td>Oxidation</td>\n      <td>15.994915</td>\n      <td>5.0</td>\n      <td>NaN</td>\n      <td>NaN</td>\n      <td>NaN</td>\n    </tr>\n  </tbody>\n</table>\n<p>168 rows × 35 columns</p>\n</div>"
     },
     "execution_count": 50,
     "metadata": {},
     "output_type": "execute_result"
    },
    {
     "data": {
      "text/plain": "<Figure size 432x288 with 1 Axes>",
      "image/png": "[encoded data removed]"
     },
     "metadata": {
      "needs_background": "light"
     },
     "output_type": "display_data"
    }
   ],
   "source": [
    "file = 'MSGF_v2/5000_batch_3.mzid.csv'\n",
    "#file = 'MSGF/1000_v2_consensus.mzid.csv'\n",
    "df = pd.read_csv(file)\n",
    "print('Initial length:', len(df))\n",
    "\n",
    "# Plot the score distribution for decoy = True and decoy = False\n",
    "decoy = [False, True]\n",
    "bins = np.linspace(0, 0.02, num=11)\n",
    "fig, ax = plt.subplots()\n",
    "\n",
    "def countDecoy(l):\n",
    "    nTrue = sum(l)\n",
    "    nFalse = len(l)-nTrue\n",
    "    return nTrue, nFalse # nDecoy, nNotDecoy\n",
    "\n",
    "# Only keep identifications for FDR < 0.01\n",
    "df = df.sort_values(by='MS.GF.PepQValue') # Sort by Q value\n",
    "df = df[df['MS.GF.PepQValue'] < 0.01]\n",
    "\n",
    "nDecoy, nNotDecoy = countDecoy(df['isDecoy'])\n",
    "FDR = nDecoy / (nDecoy+nNotDecoy)\n",
    "print('FDR:', FDR)\n",
    "\n",
    "# Only keep identifications for which isDecoy = False\n",
    "df = df[df['isDecoy'] == False]\n",
    "print('Final length:', len(df))\n",
    "df"
   ],
   "metadata": {
    "collapsed": false,
    "pycharm": {
     "name": "#%%\n"
    }
   }
  },
  {
   "cell_type": "code",
   "execution_count": 51,
   "outputs": [
    {
     "name": "stdout",
     "output_type": "stream",
     "text": [
      "Spectra that could be identified at 0.01 FDR: 45 \n"
     ]
    }
   ],
   "source": [
    "# Check how many spectra could be identified\n",
    "print('Spectra that could be identified at 0.01 FDR: %d ' % (len(np.unique(df['spectrum.title'])),))"
   ],
   "metadata": {
    "collapsed": false,
    "pycharm": {
     "name": "#%%\n"
    }
   }
  },
  {
   "cell_type": "code",
   "execution_count": 52,
   "outputs": [
    {
     "data": {
      "text/plain": "  0%|          | 0/168 [00:00<?, ?it/s]",
      "application/vnd.jupyter.widget-view+json": {
       "version_major": 2,
       "version_minor": 0,
       "model_id": "838b0274926040d6b903c6f33e9cccb9"
      }
     },
     "metadata": {},
     "output_type": "display_data"
    }
   ],
   "source": [
    "def getUniprotDescription(accessionNum, http = urllib3.PoolManager()):\n",
    "    r = http.request('GET', 'https://www.uniprot.org/uniprot/%s.xml' % (accessionNum,))\n",
    "    root = ET.fromstring(r.data)\n",
    "    for e in root.findall(\".//{http://uniprot.org/uniprot}comment[@type='function']/{http://uniprot.org/uniprot}text\"):\n",
    "        return(e.text)\n",
    "\n",
    "#prot_mod = df[['DatabaseDescription', 'spectrum.title', 'modName']]\n",
    "http = urllib3.PoolManager()\n",
    "descriptions = []\n",
    "clids = []\n",
    "tissues = []\n",
    "uniprot_codes = []\n",
    "uniprot_names = []\n",
    "gene = []\n",
    "qvalues = []\n",
    "\n",
    "for index, row in tqdm(df.iterrows(), total=len(df)):\n",
    "    _, code, full_name = row['DatabaseDescription'].split('|')\n",
    "    uniprot_codes.append(code)\n",
    "\n",
    "    _, _, g = row['DatabaseAccess'].split('|')\n",
    "    gene.append(g.split('_')[0])\n",
    "\n",
    "    t = full_name.split(' OS')[0].split('HUMAN ')[1]\n",
    "    uniprot_names.append(t)\n",
    "\n",
    "    clids.append(row['spectrum.title'].split('_')[1])\n",
    "    tissues.append(row['spectrum.title'].split(':')[1])\n",
    "\n",
    "    descriptions.append(getUniprotDescription(code, http))\n",
    "    #print(descriptions[-1])\n",
    "\n",
    "    qvalues.append(row['MS.GF.PepQValue'])\n",
    "\n",
    "    time.sleep(0.5)"
   ],
   "metadata": {
    "collapsed": false,
    "pycharm": {
     "name": "#%%\n"
    }
   }
  },
  {
   "cell_type": "code",
   "execution_count": 53,
   "outputs": [],
   "source": [
    "prot_mod = pd.DataFrame({'Cluster id': clids,\n",
    "                         'Code': uniprot_codes,\n",
    "                         'Gene': gene,\n",
    "                         'PTM': df['modName'],\n",
    "                         'Protein': uniprot_names,\n",
    "                         'Tissue': tissues,\n",
    "                         'Description': descriptions,\n",
    "                         'Sequence': df['sequence'],\n",
    "                         'Start': df['start'],\n",
    "                         'End': df['end'],\n",
    "                         'ModPeptideRef': df['modPeptideRef'],\n",
    "                         'QValue': qvalues})\n",
    "prot_mod = prot_mod.sort_values(by=['Cluster id', 'Protein'])\n",
    "prot_mod.to_csv(file + '_descriptions.csv')"
   ],
   "metadata": {
    "collapsed": false,
    "pycharm": {
     "name": "#%%\n"
    }
   }
  },
  {
   "cell_type": "code",
   "execution_count": 54,
   "outputs": [
    {
     "data": {
      "text/plain": "   Cluster id    Code   Gene            PTM  \\\n2     1009346  Q8IWL2  SFTA1      Oxidation   \n3     1009346  Q8IWL1  SFPA2      Oxidation   \n4     1017386  P12883   MYH7      Oxidation   \n5     1017386  P12883   MYH7      Oxidation   \n64    1028957  P05023  AT1A1  Gln->pyro-Glu   \n..        ...     ...    ...            ...   \n17     957282  P12883   MYH7      Oxidation   \n86     979186  P13533   MYH6      Oxidation   \n87     979186  P13533   MYH6      Oxidation   \n88     979186  P12883   MYH7      Oxidation   \n89     979186  P12883   MYH7      Oxidation   \n\n                                              Protein         Tissue  \\\n2          Pulmonary surfactant-associated protein A1           Lung   \n3          Pulmonary surfactant-associated protein A2           Lung   \n4                                            Myosin-7          Heart   \n5                                            Myosin-7          Heart   \n64  Sodium/potassium-transporting ATPase subunit a...  Frontalcortex   \n..                                                ...            ...   \n17                                           Myosin-7          Heart   \n86                                           Myosin-6          Heart   \n87                                           Myosin-6          Heart   \n88                                           Myosin-7          Heart   \n89                                           Myosin-7          Heart   \n\n                                          Description  \\\n2   In presence of calcium ions, it binds to surfa...   \n3   In presence of calcium ions, it binds to surfa...   \n4   Myosins are actin-based motor molecules with A...   \n5   Myosins are actin-based motor molecules with A...   \n64  This is the catalytic component of the active ...   \n..                                                ...   \n17  Myosins are actin-based motor molecules with A...   \n86                                Muscle contraction.   \n87                                Muscle contraction.   \n88  Myosins are actin-based motor molecules with A...   \n89  Myosins are actin-based motor molecules with A...   \n\n                   Sequence  Start   End                       ModPeptideRef  \\\n2     GPPGLPAHLDEELQATLHDFR     95   115        Pep_GPP+16GLPAHLDEELQATLHDFR   \n3     GPPGLPAHLDEELQATLHDFR     95   115        Pep_GPP+16GLPAHLDEELQATLHDFR   \n4      IEDMAMLTFLHEPAVLYNLK     87   106      Pep_IEDM+16AM+16LTFLHEPAVLYNLK   \n5      IEDMAMLTFLHEPAVLYNLK     87   106      Pep_IEDM+16AM+16LTFLHEPAVLYNLK   \n64  QAADMILLDDNFASIVTGVEEGR    744   766  Pep_[-17QAADM+16ILLDDNFASIVTGVEEGR   \n..                      ...    ...   ...                                 ...   \n17        MEGDLNEMEIQLSHANR   1618  1634         Pep_M+16EGDLNEM+16EIQLSHANR   \n86       KMEGDLNEMEIQLSHANR   1619  1636        Pep_KM+16EGDLNEM+16EIQLSHANR   \n87       KMEGDLNEMEIQLSHANR   1619  1636        Pep_KM+16EGDLNEM+16EIQLSHANR   \n88       KMEGDLNEMEIQLSHANR   1617  1634        Pep_KM+16EGDLNEM+16EIQLSHANR   \n89       KMEGDLNEMEIQLSHANR   1617  1634        Pep_KM+16EGDLNEM+16EIQLSHANR   \n\n    QValue  \n2      0.0  \n3      0.0  \n4      0.0  \n5      0.0  \n64     0.0  \n..     ...  \n17     0.0  \n86     0.0  \n87     0.0  \n88     0.0  \n89     0.0  \n\n[168 rows x 12 columns]",
      "text/html": "<div>\n<style scoped>\n    .dataframe tbody tr th:only-of-type {\n        vertical-align: middle;\n    }\n\n    .dataframe tbody tr th {\n        vertical-align: top;\n    }\n\n    .dataframe thead th {\n        text-align: right;\n    }\n</style>\n<table border=\"1\" class=\"dataframe\">\n  <thead>\n    <tr style=\"text-align: right;\">\n      <th></th>\n      <th>Cluster id</th>\n      <th>Code</th>\n      <th>Gene</th>\n      <th>PTM</th>\n      <th>Protein</th>\n      <th>Tissue</th>\n      <th>Description</th>\n      <th>Sequence</th>\n      <th>Start</th>\n      <th>End</th>\n      <th>ModPeptideRef</th>\n      <th>QValue</th>\n    </tr>\n  </thead>\n  <tbody>\n    <tr>\n      <th>2</th>\n      <td>1009346</td>\n      <td>Q8IWL2</td>\n      <td>SFTA1</td>\n      <td>Oxidation</td>\n      <td>Pulmonary surfactant-associated protein A1</td>\n      <td>Lung</td>\n      <td>In presence of calcium ions, it binds to surfa...</td>\n      <td>GPPGLPAHLDEELQATLHDFR</td>\n      <td>95</td>\n      <td>115</td>\n      <td>Pep_GPP+16GLPAHLDEELQATLHDFR</td>\n      <td>0.0</td>\n    </tr>\n    <tr>\n      <th>3</th>\n      <td>1009346</td>\n      <td>Q8IWL1</td>\n      <td>SFPA2</td>\n      <td>Oxidation</td>\n      <td>Pulmonary surfactant-associated protein A2</td>\n      <td>Lung</td>\n      <td>In presence of calcium ions, it binds to surfa...</td>\n      <td>GPPGLPAHLDEELQATLHDFR</td>\n      <td>95</td>\n      <td>115</td>\n      <td>Pep_GPP+16GLPAHLDEELQATLHDFR</td>\n      <td>0.0</td>\n    </tr>\n    <tr>\n      <th>4</th>\n      <td>1017386</td>\n      <td>P12883</td>\n      <td>MYH7</td>\n      <td>Oxidation</td>\n      <td>Myosin-7</td>\n      <td>Heart</td>\n      <td>Myosins are actin-based motor molecules with A...</td>\n      <td>IEDMAMLTFLHEPAVLYNLK</td>\n      <td>87</td>\n      <td>106</td>\n      <td>Pep_IEDM+16AM+16LTFLHEPAVLYNLK</td>\n      <td>0.0</td>\n    </tr>\n    <tr>\n      <th>5</th>\n      <td>1017386</td>\n      <td>P12883</td>\n      <td>MYH7</td>\n      <td>Oxidation</td>\n      <td>Myosin-7</td>\n      <td>Heart</td>\n      <td>Myosins are actin-based motor molecules with A...</td>\n      <td>IEDMAMLTFLHEPAVLYNLK</td>\n      <td>87</td>\n      <td>106</td>\n      <td>Pep_IEDM+16AM+16LTFLHEPAVLYNLK</td>\n      <td>0.0</td>\n    </tr>\n    <tr>\n      <th>64</th>\n      <td>1028957</td>\n      <td>P05023</td>\n      <td>AT1A1</td>\n      <td>Gln-&gt;pyro-Glu</td>\n      <td>Sodium/potassium-transporting ATPase subunit a...</td>\n      <td>Frontalcortex</td>\n      <td>This is the catalytic component of the active ...</td>\n      <td>QAADMILLDDNFASIVTGVEEGR</td>\n      <td>744</td>\n      <td>766</td>\n      <td>Pep_[-17QAADM+16ILLDDNFASIVTGVEEGR</td>\n      <td>0.0</td>\n    </tr>\n    <tr>\n      <th>...</th>\n      <td>...</td>\n      <td>...</td>\n      <td>...</td>\n      <td>...</td>\n      <td>...</td>\n      <td>...</td>\n      <td>...</td>\n      <td>...</td>\n      <td>...</td>\n      <td>...</td>\n      <td>...</td>\n      <td>...</td>\n    </tr>\n    <tr>\n      <th>17</th>\n      <td>957282</td>\n      <td>P12883</td>\n      <td>MYH7</td>\n      <td>Oxidation</td>\n      <td>Myosin-7</td>\n      <td>Heart</td>\n      <td>Myosins are actin-based motor molecules with A...</td>\n      <td>MEGDLNEMEIQLSHANR</td>\n      <td>1618</td>\n      <td>1634</td>\n      <td>Pep_M+16EGDLNEM+16EIQLSHANR</td>\n      <td>0.0</td>\n    </tr>\n    <tr>\n      <th>86</th>\n      <td>979186</td>\n      <td>P13533</td>\n      <td>MYH6</td>\n      <td>Oxidation</td>\n      <td>Myosin-6</td>\n      <td>Heart</td>\n      <td>Muscle contraction.</td>\n      <td>KMEGDLNEMEIQLSHANR</td>\n      <td>1619</td>\n      <td>1636</td>\n      <td>Pep_KM+16EGDLNEM+16EIQLSHANR</td>\n      <td>0.0</td>\n    </tr>\n    <tr>\n      <th>87</th>\n      <td>979186</td>\n      <td>P13533</td>\n      <td>MYH6</td>\n      <td>Oxidation</td>\n      <td>Myosin-6</td>\n      <td>Heart</td>\n      <td>Muscle contraction.</td>\n      <td>KMEGDLNEMEIQLSHANR</td>\n      <td>1619</td>\n      <td>1636</td>\n      <td>Pep_KM+16EGDLNEM+16EIQLSHANR</td>\n      <td>0.0</td>\n    </tr>\n    <tr>\n      <th>88</th>\n      <td>979186</td>\n      <td>P12883</td>\n      <td>MYH7</td>\n      <td>Oxidation</td>\n      <td>Myosin-7</td>\n      <td>Heart</td>\n      <td>Myosins are actin-based motor molecules with A...</td>\n      <td>KMEGDLNEMEIQLSHANR</td>\n      <td>1617</td>\n      <td>1634</td>\n      <td>Pep_KM+16EGDLNEM+16EIQLSHANR</td>\n      <td>0.0</td>\n    </tr>\n    <tr>\n      <th>89</th>\n      <td>979186</td>\n      <td>P12883</td>\n      <td>MYH7</td>\n      <td>Oxidation</td>\n      <td>Myosin-7</td>\n      <td>Heart</td>\n      <td>Myosins are actin-based motor molecules with A...</td>\n      <td>KMEGDLNEMEIQLSHANR</td>\n      <td>1617</td>\n      <td>1634</td>\n      <td>Pep_KM+16EGDLNEM+16EIQLSHANR</td>\n      <td>0.0</td>\n    </tr>\n  </tbody>\n</table>\n<p>168 rows × 12 columns</p>\n</div>"
     },
     "execution_count": 54,
     "metadata": {},
     "output_type": "execute_result"
    }
   ],
   "source": [
    "prot_mod"
   ],
   "metadata": {
    "collapsed": false,
    "pycharm": {
     "name": "#%%\n"
    }
   }
  },
  {
   "cell_type": "code",
   "execution_count": 55,
   "outputs": [
    {
     "name": "stdout",
     "output_type": "stream",
     "text": [
      "Counter({'Oxidation': 33, 'Carbamidomethyl': 8, 'Phospho': 5, 'Methyl': 4, 'Gln->pyro-Glu': 3, 'Glu->pyro-Glu': 3, 'Acetyl': 2, 'Deamidated': 2, 'nan': 1})\n"
     ]
    }
   ],
   "source": [
    "PTMs = []\n",
    "\n",
    "# Check how many of each PTM there are\n",
    "for id in np.unique(prot_mod['Cluster id'].astype(str)):\n",
    "    PTMs = PTMs + list(set(prot_mod[prot_mod['Cluster id']==id]['PTM'].astype(str)))\n",
    "\n",
    "print(Counter(PTMs))"
   ],
   "metadata": {
    "collapsed": false,
    "pycharm": {
     "name": "#%%\n"
    }
   }
  }
 ],
 "metadata": {
  "kernelspec": {
   "name": "falcon",
   "language": "python",
   "display_name": "falcon"
  },
  "language_info": {
   "codemirror_mode": {
    "name": "ipython",
    "version": 2
   },
   "file_extension": ".py",
   "mimetype": "text/x-python",
   "name": "python",
   "nbconvert_exporter": "python",
   "pygments_lexer": "ipython2",
   "version": "2.7.6"
  }
 },
 "nbformat": 4,
 "nbformat_minor": 0
}