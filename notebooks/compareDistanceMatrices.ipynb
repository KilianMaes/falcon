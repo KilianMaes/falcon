{
 "cells": [
  {
   "cell_type": "markdown",
   "id": "intelligent-insight",
   "metadata": {},
   "source": [
    "# Compare the distance matrices\n",
    "\n",
    "This notebook can be used to compare the distance matrix obtained by \n",
    "* cosine distance s.t. it is defined in MS-cluster\n",
    "* cosine distance between the high dimensional vectors of falcon \n",
    "* the ANN search used by falcon"
   ]
  },
  {
   "cell_type": "code",
   "execution_count": 11,
   "id": "pleasant-howard",
   "metadata": {},
   "outputs": [],
   "source": [
    "import os\n",
    "import sys\n",
    "import scipy.sparse as ss\n",
    "import matplotlib\n",
    "import matplotlib.pyplot as plt\n",
    "from tqdm.notebook import tqdm\n",
    "\n",
    "sys.path.append('..')\n",
    "import config\n",
    "from cluster import cluster, spectrum\n",
    "\n",
    "import nb_utils\n",
    "read_spectra = nb_utils.read_spectra\n",
    "exact_sparse_matrix = nb_utils.exact_sparse_matrix"
   ]
  },
  {
   "cell_type": "code",
   "execution_count": 12,
   "id": "consecutive-farming",
   "metadata": {},
   "outputs": [
    {
     "data": {
      "text/plain": "|          | 0/? [00:00<?, ?it/s]",
      "application/vnd.jupyter.widget-view+json": {
       "version_major": 2,
       "version_minor": 0,
       "model_id": "3797dce911764544be7ffb54a55cba14"
      }
     },
     "metadata": {},
     "output_type": "display_data"
    },
    {
     "data": {
      "text/plain": "|          | 0/? [00:00<?, ?it/s]",
      "application/vnd.jupyter.widget-view+json": {
       "version_major": 2,
       "version_minor": 0,
       "model_id": "6e70d619aec041e7ad975f442890d2e4"
      }
     },
     "metadata": {},
     "output_type": "display_data"
    }
   ],
   "source": [
    "data = {}\n",
    "\n",
    "data['erwinia'] = {'path': '/media/maesk/WD/falcon/erwinia'}\n",
    "data['CCLE_7000'] = {'path': '/media/maesk/WD/falcon/CCLE_7000'}\n",
    "#data['CCLE_5M'] = {'path': os.path.abspath(\"/media/maesk/WD/falcon/CCLE_5M\")}\n",
    "#data['PXD000561'] = {'path': os.path.abspath(\"/media/maesk/WD/falcon/PXD000561_all/spectra\")}\n",
    "\n",
    "charge = 2\n",
    "exportPath = \"compare_CCLE_PXD000561\"\n",
    "\n",
    "# Extract the precursor mzs for each dataset\n",
    "for ds in data.values():\n",
    "    precursor_mzs = []\n",
    "    for spec in tqdm(read_spectra(charge, os.path.join(ds['path'], 'spectra'))):\n",
    "        precursor_mzs.append(spec.precursor_mz)\n",
    "        \n",
    "    ds['precursor_mzs'] = precursor_mzs"
   ]
  },
  {
   "cell_type": "markdown",
   "id": "included-breach",
   "metadata": {},
   "source": [
    "### Show the precursor mz's distribution (1 m/z wide bins)"
   ]
  },
  {
   "cell_type": "code",
   "execution_count": 13,
   "id": "humanitarian-trace",
   "metadata": {
    "scrolled": true
   },
   "outputs": [
    {
     "data": {
      "text/plain": "'\\n# TODO fix bug, the 1st histogram takes the yaxis of the second one\\nfig, axs = plt.subplots(1, len(data), figsize=(12,4))\\nfig.suptitle(f\\'Precursos mz\\' distribution (charge {charge})\\')\\nds_names = list(data.keys())\\nfor i in range(0,len(ds_names)):\\n    ds = data[ds_names[i]]\\n    min_mz = math.floor(min(ds[\\'precursor_mzs\\']))\\n    max_mz = math.floor(max(ds[\\'precursor_mzs\\']))\\n    bins = range(min_mz, max_mz+1, 1)\\n    axs[i].hist(ds[\\'precursor_mzs\\'], bins=bins)\\n    axs[i].set(title=ds_names[i], xlabel=\"Precursor mz\", ylabel=\"Number of spectra\")\\nplt.tight_layout()\\nplt.savefig(os.path.join(exportPath, \\'precursor_mzs\\'), dpi=150)\\nplt.show()\\n'"
     },
     "execution_count": 13,
     "metadata": {},
     "output_type": "execute_result"
    }
   ],
   "source": [
    "\"\"\"\n",
    "# TODO fix bug, the 1st histogram takes the yaxis of the second one\n",
    "fig, axs = plt.subplots(1, len(data), figsize=(12,4))\n",
    "fig.suptitle(f'Precursos mz\\' distribution (charge {charge})')\n",
    "ds_names = list(data.keys())\n",
    "for i in range(0,len(ds_names)):\n",
    "    ds = data[ds_names[i]]\n",
    "    min_mz = math.floor(min(ds['precursor_mzs']))\n",
    "    max_mz = math.floor(max(ds['precursor_mzs']))\n",
    "    bins = range(min_mz, max_mz+1, 1)\n",
    "    axs[i].hist(ds['precursor_mzs'], bins=bins)\n",
    "    axs[i].set(title=ds_names[i], xlabel=\"Precursor mz\", ylabel=\"Number of spectra\")\n",
    "plt.tight_layout()\n",
    "plt.savefig(os.path.join(exportPath, 'precursor_mzs'), dpi=150)\n",
    "plt.show()\n",
    "\"\"\""
   ]
  },
  {
   "cell_type": "markdown",
   "id": "expected-eating",
   "metadata": {},
   "source": [
    "### Compute the exact pairwise matrix"
   ]
  },
  {
   "cell_type": "code",
   "execution_count": 14,
   "id": "double-entertainment",
   "metadata": {
    "pycharm": {
     "name": "#%%\n"
    }
   },
   "outputs": [
    {
     "data": {
      "text/plain": "  0%|          | 0/3749 [00:00<?, ?it/s]",
      "application/vnd.jupyter.widget-view+json": {
       "version_major": 2,
       "version_minor": 0,
       "model_id": "a566408fcd1e489da2881470dba71d69"
      }
     },
     "metadata": {},
     "output_type": "display_data"
    },
    {
     "name": "stdout",
     "output_type": "stream",
     "text": [
      "Dataset: erwinia\n",
      "\tShape: (3716,3716)\n",
      "\tNumber of entries in the exact matrix: 11470\n",
      "\tNumber of entries in the falcon matrix: 11454\n",
      "\tNumber of spectra lost: 16\n",
      "\tProportion of spectra lost: 0.0001 % \n",
      "\n",
      "\n",
      "Dataset: CCLE_7000\n",
      "\tShape: (3587,3587)\n",
      "\tNumber of entries in the exact matrix: 9017\n",
      "\tNumber of entries in the falcon matrix: 9017\n",
      "\tNumber of spectra lost: 0\n",
      "\tProportion of spectra lost: 0.0000 % \n",
      "\n",
      "\n"
     ]
    },
    {
     "data": {
      "text/plain": "  0%|          | 0/3603 [00:00<?, ?it/s]",
      "application/vnd.jupyter.widget-view+json": {
       "version_major": 2,
       "version_minor": 0,
       "model_id": "f24c77c0eaeb4398ac28d8b6cc6d26aa"
      }
     },
     "metadata": {},
     "output_type": "display_data"
    }
   ],
   "source": [
    "precursor_tol_mass = 20 # ppm\n",
    "\n",
    "for ds_name, ds in data.items():\n",
    "    dist_exact, n_sp_diff_bucket = \\\n",
    "        exact_sparse_matrix(\n",
    "            os.path.join(ds['path'], 'spectra'),\n",
    "            charge,\n",
    "            precursor_tol_mass)\n",
    "\n",
    "    dist_falcon = ss.load_npz(os.path.join(ds['path'], 'nn', f'dist_{charge}.npz'))\n",
    "\n",
    "    assert dist_falcon.shape == dist_exact.shape\n",
    "    n_spectra = dist_falcon.shape[0]\n",
    "    n_lost = dist_exact.nnz - dist_falcon.nnz\n",
    "\n",
    "    print('Dataset: %s' % (ds_name,) )\n",
    "    print('\\tShape: (%d,%d)' % (n_spectra, n_spectra) )\n",
    "    print('\\tNumber of entries in the exact matrix: %d' % (dist_exact.nnz,) )\n",
    "    print('\\tNumber of entries in the falcon matrix: %d' % (dist_falcon.nnz,) )\n",
    "    print('\\tNumber of spectra lost: %d' % (n_lost,) )\n",
    "    print('\\tProportion of spectra lost: %.4f %% \\n\\n' % (n_lost / (n_spectra**2) * 100 ,) )"
   ]
  },
  {
   "cell_type": "code",
   "execution_count": null,
   "outputs": [],
   "source": [
    "fig, ax = plt.subplots()\n"
   ],
   "metadata": {
    "collapsed": false,
    "pycharm": {
     "name": "#%%\n"
    }
   }
  },
  {
   "cell_type": "markdown",
   "source": [
    "Sanity check: verify that all elements in the falcon distance matrix are in the\n",
    "exact matrice. The falcon matrix will contain less elements because:\n",
    "* It only contains *n_neighbors* entries for each spectrum\n",
    "* Spectra with close precursor mzs in neighboring buckets are not compared\n",
    "\n",
    "For small datasets (less than 1000 spectra per bucket), such that no partitioning is used\n",
    "and a bruteforce approach is used, the following sanity tests should pass"
   ],
   "metadata": {
    "collapsed": false,
    "pycharm": {
     "name": "#%% md\n"
    }
   }
  },
  {
   "cell_type": "code",
   "execution_count": 15,
   "outputs": [
    {
     "data": {
      "text/plain": "'assert len(indices_lost( (dist_falcon, dist_exact) )) == 0\\nprint(\"OK, all the entries of the falcon matrix are in the exact matrix\")\\n\\nassert len(indices_lost( (dist_exact, dist_falcon) )) == n_missed_sp\\nprint(\"OK, all the indices lost correspond to spectra in different buckets\")'"
     },
     "execution_count": 15,
     "metadata": {},
     "output_type": "execute_result"
    }
   ],
   "source": [
    "\"\"\"assert len(indices_lost( (dist_falcon, dist_exact) )) == 0\n",
    "print(\"OK, all the entries of the falcon matrix are in the exact matrix\")\n",
    "\n",
    "assert len(indices_lost( (dist_exact, dist_falcon) )) == n_missed_sp\n",
    "print(\"OK, all the indices lost correspond to spectra in different buckets\")\"\"\""
   ],
   "metadata": {
    "collapsed": false,
    "pycharm": {
     "name": "#%%\n"
    }
   }
  }
 ],
 "metadata": {
  "kernelspec": {
   "display_name": "falcon",
   "language": "python",
   "name": "falcon"
  },
  "language_info": {
   "codemirror_mode": {
    "name": "ipython",
    "version": 3
   },
   "file_extension": ".py",
   "mimetype": "text/x-python",
   "name": "python",
   "nbconvert_exporter": "python",
   "pygments_lexer": "ipython3",
   "version": "3.8.6"
  }
 },
 "nbformat": 4,
 "nbformat_minor": 5
}