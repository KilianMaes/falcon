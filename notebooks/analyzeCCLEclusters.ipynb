{
 "cells": [
  {
   "cell_type": "code",
   "execution_count": 1,
   "metadata": {
    "collapsed": true
   },
   "outputs": [],
   "source": [
    "# Some of the code in this file is inspired from:\n",
    "# https://github.com/bittremieux/falcon_notebooks/blob/main/cluster_comparison_hyperparam.ipynb\n",
    "import pandas as pd\n",
    "from bittremieux_utils import get_clusters_falcon, evaluate_clusters"
   ]
  },
  {
   "cell_type": "code",
   "execution_count": 2,
   "outputs": [],
   "source": [
    "ids = pd.read_parquet('kim2014_ids.parquet')\n",
    "ids.to_csv('kim2014_ids.csv')\n",
    "ids['sequence'] = ids['sequence'].str.replace('L', 'I')"
   ],
   "metadata": {
    "collapsed": false,
    "pycharm": {
     "name": "#%%\n"
    }
   }
  },
  {
   "cell_type": "code",
   "execution_count": 5,
   "outputs": [
    {
     "name": "stdout",
     "output_type": "stream",
     "text": [
      "Prop clustered : 0.49\n",
      "Prop clustered incorrect : 0.02\n",
      "Homogeneity : 0.99 \n",
      "Completeness : 0.92 \n"
     ]
    }
   ],
   "source": [
    "filename = \"/media/maesk/WD/falcon/PXD000561_1/nn/eps_0.1_minsample_2/fragm_tol_0.05_hash_len_800/prec_tol_20/clusters.csv\"\n",
    "min_cluster_size = 2\n",
    "max_cluster_size = None\n",
    "charges = None # Keep all the charges\n",
    "\n",
    "cluster_labels = get_clusters_falcon(filename, ids)\n",
    "num_clustered, num_noise, \\\n",
    "    prop_clustered, prop_clustered_incorrect, \\\n",
    "    homogeneity, completeness = \\\n",
    "        evaluate_clusters(cluster_labels, min_cluster_size,\n",
    "                          max_cluster_size, charges)\n",
    "\n",
    "print('Prop clustered : %.2f' % (prop_clustered,))\n",
    "print('Prop clustered incorrect : %.2f' % (prop_clustered_incorrect,))\n",
    "print('Homogeneity : %.2f ' % (homogeneity,))\n",
    "print('Completeness : %.2f ' % (completeness,))"
   ],
   "metadata": {
    "collapsed": false,
    "pycharm": {
     "name": "#%%\n"
    }
   }
  }
 ],
 "metadata": {
  "kernelspec": {
   "name": "falcon",
   "language": "python",
   "display_name": "falcon"
  },
  "language_info": {
   "codemirror_mode": {
    "name": "ipython",
    "version": 2
   },
   "file_extension": ".py",
   "mimetype": "text/x-python",
   "name": "python",
   "nbconvert_exporter": "python",
   "pygments_lexer": "ipython2",
   "version": "2.7.6"
  }
 },
 "nbformat": 4,
 "nbformat_minor": 0
}