{
 "cells": [
  {
   "cell_type": "code",
   "execution_count": 1,
   "metadata": {
    "collapsed": true
   },
   "outputs": [],
   "source": [
    "import os\n",
    "from tqdm.notebook import tqdm\n",
    "import numpy as np\n",
    "import pandas as pd\n",
    "import matplotlib.pyplot as plt\n",
    "\n",
    "\n",
    "import nb_utils\n",
    "from ms_io import ms_io"
   ]
  },
  {
   "cell_type": "markdown",
   "source": [
    "## Import the spectra and the identifications"
   ],
   "metadata": {
    "collapsed": false,
    "pycharm": {
     "name": "#%% md\n"
    }
   }
  },
  {
   "cell_type": "code",
   "execution_count": 2,
   "outputs": [
    {
     "data": {
      "text/plain": "  0%|          | 0/2211 [00:00<?, ?it/s]",
      "application/vnd.jupyter.widget-view+json": {
       "version_major": 2,
       "version_minor": 0,
       "model_id": "4a59fd39c5e74870bb4d94b7b6cefe03"
      }
     },
     "metadata": {},
     "output_type": "display_data"
    }
   ],
   "source": [
    "peak_dir = \"/media/maesk/WD/MS/PXD000561/mgf\"\n",
    "pref = 'mzspec:PXD000561:'\n",
    "filenames = [os.path.join(peak_dir, filename)\n",
    "             for filename in os.listdir(peak_dir)\n",
    "             if filename.endswith('.mgf')]\n",
    "file_labels = '/media/maesk/WD/MS/PXD000561/kim2014_ids.csv'\n",
    "\n",
    "df_identifier = []\n",
    "df_charge = []\n",
    "df_precursor_mz = []\n",
    "\n",
    "for filename in tqdm(filenames):\n",
    "    for sp in ms_io.get_spectra(filename):\n",
    "        df_identifier.append(pref + sp.identifier)\n",
    "        df_charge.append(sp.precursor_charge)\n",
    "        df_precursor_mz.append(sp.precursor_mz)\n",
    "\n",
    "df_dic = {'identifier': df_identifier,\n",
    "          'precursor_charge': df_charge,\n",
    "          'precursor_mz': df_precursor_mz}\n",
    "df_sp = pd.DataFrame(df_dic)\n",
    "\n",
    "labels = pd.read_csv(file_labels)"
   ],
   "metadata": {
    "collapsed": false,
    "pycharm": {
     "name": "#%%\n"
    }
   }
  },
  {
   "cell_type": "code",
   "execution_count": 3,
   "outputs": [
    {
     "name": "stdout",
     "output_type": "stream",
     "text": [
      "24992480\n",
      "24992480\n"
     ]
    }
   ],
   "source": [
    "print(len(df_sp))\n",
    "print(len(labels))\n",
    "sp_id = pd.merge(df_sp, labels[['identifier', 'sequence']],\n",
    "                                  'left', 'identifier')"
   ],
   "metadata": {
    "collapsed": false,
    "pycharm": {
     "name": "#%%\n"
    }
   }
  },
  {
   "cell_type": "code",
   "execution_count": 4,
   "outputs": [],
   "source": [
    "sp_id.to_csv('analyzePXD000561dataset/test.csv')"
   ],
   "metadata": {
    "collapsed": false,
    "pycharm": {
     "name": "#%%\n"
    }
   }
  },
  {
   "cell_type": "markdown",
   "source": [
    "## Plot the total number of spectra for each charge"
   ],
   "metadata": {
    "collapsed": false,
    "pycharm": {
     "name": "#%% md\n"
    }
   }
  },
  {
   "cell_type": "code",
   "execution_count": 5,
   "outputs": [
    {
     "name": "stdout",
     "output_type": "stream",
     "text": [
      "[  973277 14749401  6792844  1822149   485490   131604    25462     7694\n",
      "     2729     1093      413      214       31        4       75]\n",
      "[  96830 7003577 2798645  502191   75947    9139     816      88       2\n",
      "       0       0       0       0       0       0]\n"
     ]
    },
    {
     "data": {
      "text/plain": "                  identifier  precursor_mz  sequence\nprecursor_charge                                    \n1                     973277        973277     96830\n2                   14749401      14749401   7003577\n3                    6792844       6792844   2798645\n4                    1822149       1822149    502191\n5                     485490        485490     75947\n6                     131604        131604      9139\n7                      25462         25462       816\n8                       7694          7694        88\n9                       2729          2729         2\n10                      1093          1093         0\n11                       413           413         0\n12                       214           214         0\n13                        31            31         0\n14                         4             4         0\n15                        75            75         0",
      "text/html": "<div>\n<style scoped>\n    .dataframe tbody tr th:only-of-type {\n        vertical-align: middle;\n    }\n\n    .dataframe tbody tr th {\n        vertical-align: top;\n    }\n\n    .dataframe thead th {\n        text-align: right;\n    }\n</style>\n<table border=\"1\" class=\"dataframe\">\n  <thead>\n    <tr style=\"text-align: right;\">\n      <th></th>\n      <th>identifier</th>\n      <th>precursor_mz</th>\n      <th>sequence</th>\n    </tr>\n    <tr>\n      <th>precursor_charge</th>\n      <th></th>\n      <th></th>\n      <th></th>\n    </tr>\n  </thead>\n  <tbody>\n    <tr>\n      <th>1</th>\n      <td>973277</td>\n      <td>973277</td>\n      <td>96830</td>\n    </tr>\n    <tr>\n      <th>2</th>\n      <td>14749401</td>\n      <td>14749401</td>\n      <td>7003577</td>\n    </tr>\n    <tr>\n      <th>3</th>\n      <td>6792844</td>\n      <td>6792844</td>\n      <td>2798645</td>\n    </tr>\n    <tr>\n      <th>4</th>\n      <td>1822149</td>\n      <td>1822149</td>\n      <td>502191</td>\n    </tr>\n    <tr>\n      <th>5</th>\n      <td>485490</td>\n      <td>485490</td>\n      <td>75947</td>\n    </tr>\n    <tr>\n      <th>6</th>\n      <td>131604</td>\n      <td>131604</td>\n      <td>9139</td>\n    </tr>\n    <tr>\n      <th>7</th>\n      <td>25462</td>\n      <td>25462</td>\n      <td>816</td>\n    </tr>\n    <tr>\n      <th>8</th>\n      <td>7694</td>\n      <td>7694</td>\n      <td>88</td>\n    </tr>\n    <tr>\n      <th>9</th>\n      <td>2729</td>\n      <td>2729</td>\n      <td>2</td>\n    </tr>\n    <tr>\n      <th>10</th>\n      <td>1093</td>\n      <td>1093</td>\n      <td>0</td>\n    </tr>\n    <tr>\n      <th>11</th>\n      <td>413</td>\n      <td>413</td>\n      <td>0</td>\n    </tr>\n    <tr>\n      <th>12</th>\n      <td>214</td>\n      <td>214</td>\n      <td>0</td>\n    </tr>\n    <tr>\n      <th>13</th>\n      <td>31</td>\n      <td>31</td>\n      <td>0</td>\n    </tr>\n    <tr>\n      <th>14</th>\n      <td>4</td>\n      <td>4</td>\n      <td>0</td>\n    </tr>\n    <tr>\n      <th>15</th>\n      <td>75</td>\n      <td>75</td>\n      <td>0</td>\n    </tr>\n  </tbody>\n</table>\n</div>"
     },
     "execution_count": 5,
     "metadata": {},
     "output_type": "execute_result"
    },
    {
     "data": {
      "text/plain": "<Figure size 432x288 with 1 Axes>",
      "image/png": "[encoded data removed]"
     },
     "metadata": {
      "needs_background": "light"
     },
     "output_type": "display_data"
    }
   ],
   "source": [
    "fig_path = 'analyzePXD000561dataset/'\n",
    "\n",
    "sp_per_charge = sp_id.groupby(by='precursor_charge').count()\n",
    "sp_per_charge_ = sp_per_charge\n",
    "\n",
    "plt_charges = sp_per_charge_.index.to_numpy()\n",
    "plt_nsp = sp_per_charge_['identifier'].to_numpy()\n",
    "plt_nsp_id = sp_per_charge_['sequence'].to_numpy()\n",
    "plt_nsp_notid = plt_nsp - plt_nsp_id\n",
    "\n",
    "print(plt_nsp)\n",
    "print(plt_nsp_id)\n",
    "\n",
    "fig, ax = plt.subplots()\n",
    "ax.bar(plt_charges, plt_nsp_notid, label = 'Unlabelled')\n",
    "ax.bar(plt_charges, plt_nsp_id, bottom=plt_nsp_notid, label = 'Labelled')\n",
    "ax.legend()\n",
    "ax.set(title='Number of spectra for each precursor charge',\n",
    "       xlabel='Precursor charge', ylabel='Number of spectra')\n",
    "plt.tight_layout()\n",
    "plt.savefig(fig_path+'sp_per_charge.png', dpi=300)\n",
    "plt.plot()\n",
    "\n",
    "sp_per_charge"
   ],
   "metadata": {
    "collapsed": false,
    "pycharm": {
     "name": "#%%\n"
    }
   }
  },
  {
   "cell_type": "markdown",
   "source": [
    "## Plot the precursor mz distribution"
   ],
   "metadata": {
    "collapsed": false,
    "pycharm": {
     "name": "#%% md\n"
    }
   }
  },
  {
   "cell_type": "code",
   "execution_count": 6,
   "outputs": [
    {
     "data": {
      "text/plain": "<Figure size 576x576 with 6 Axes>",
      "image/png": "[encoded data removed]"
     },
     "metadata": {
      "needs_background": "light"
     },
     "output_type": "display_data"
    }
   ],
   "source": [
    "nrow = 3\n",
    "ncol = 2\n",
    "fig, axs = plt.subplots(nrow, ncol, sharex=True, figsize=(8,8))\n",
    "fig.suptitle('Distribution of the spectra precursor mz for each charge')\n",
    "mask_charge = sp_id['precursor_charge'] <= 6\n",
    "h = sp_id[mask_charge].hist(column='precursor_mz',\n",
    "                    by='precursor_charge',\n",
    "                    bins=range(350, 1800),\n",
    "                    ax=axs)\n",
    "for i in range(nrow):\n",
    "    axs[i,0].set(ylabel='Number of spectra')\n",
    "\n",
    "for i in range(ncol):\n",
    "    axs[2,i].set(xlabel='Precursor m/z')\n",
    "\n",
    "for i in range(nrow):\n",
    "    for j in range(ncol):\n",
    "        axs[i,j].set(title='Precursor charge = '+axs[i,j].get_title())\n",
    "\n",
    "plt.tight_layout()\n",
    "plt.savefig(fig_path+'prec_mz_distr.png', dpi=300)"
   ],
   "metadata": {
    "collapsed": false,
    "pycharm": {
     "name": "#%%\n"
    }
   }
  },
  {
   "cell_type": "markdown",
   "source": [
    "## The proportion of spectra having a label"
   ],
   "metadata": {
    "collapsed": false,
    "pycharm": {
     "name": "#%% md\n"
    }
   }
  },
  {
   "cell_type": "code",
   "execution_count": 7,
   "outputs": [
    {
     "name": "stdout",
     "output_type": "stream",
     "text": [
      "Proportion: 41.96\n"
     ]
    }
   ],
   "source": [
    "print('Proportion: %.2f' % (np.sum(plt_nsp_id)/np.sum(plt_nsp)*100.0))"
   ],
   "metadata": {
    "collapsed": false,
    "pycharm": {
     "name": "#%%\n"
    }
   }
  },
  {
   "cell_type": "markdown",
   "source": [
    "## The mass spectrometer"
   ],
   "metadata": {
    "collapsed": false,
    "pycharm": {
     "name": "#%% md\n"
    }
   }
  },
  {
   "cell_type": "code",
   "execution_count": 5,
   "outputs": [],
   "source": [
    "development = []\n",
    "tissue = []\n",
    "spectrometer = []\n",
    "\n",
    "for id in sp_id['identifier'].tolist():\n",
    "    _, _, id, _, _ = id.split(':')\n",
    "    d, t, _, ms, _, _ = id.split('_')\n",
    "\n",
    "    development.append(d)\n",
    "    tissue.append(t)\n",
    "    spectrometer.append(ms)\n",
    "\n",
    "sp_id.insert(0, 'development', development)\n",
    "sp_id.insert(1, 'spectrometer', spectrometer)\n",
    "sp_id.insert(2, 'tissue', tissue)"
   ],
   "metadata": {
    "collapsed": false,
    "pycharm": {
     "name": "#%%\n"
    }
   }
  },
  {
   "cell_type": "code",
   "execution_count": 14,
   "outputs": [],
   "source": [
    "nsp = len(sp_id)\n",
    "\n",
    "df_summary = sp_id.groupby(['development', 'tissue']).count()\n",
    "\n",
    "prop_sp = df_summary['identifier'].to_numpy() / nsp * 100\n",
    "prop_labels = df_summary['sequence'].to_numpy() / df_summary['identifier'].to_numpy() * 100\n",
    "\n",
    "df_summary.insert(4, 'prop_tot', prop_sp)\n",
    "df_summary.insert(5, 'prop_labelled', prop_labels)\n",
    "\n",
    "df_summary\n",
    "df_summary.to_csv(fig_path+'summary.csv')"
   ],
   "metadata": {
    "collapsed": false,
    "pycharm": {
     "name": "#%%\n"
    }
   }
  },
  {
   "cell_type": "markdown",
   "source": [
    "## The number of different labels"
   ],
   "metadata": {
    "collapsed": false,
    "pycharm": {
     "name": "#%% md\n"
    }
   }
  },
  {
   "cell_type": "code",
   "execution_count": 16,
   "outputs": [
    {
     "name": "stdout",
     "output_type": "stream",
     "text": [
      "                               Unnamed: 0  identifier  precursor_charge  \\\n",
      "sequence                                                                  \n",
      "AAAAAAAAAAAAAAAGAGAGAK                 20          20                20   \n",
      "AAAAAAAAAAAAAATATAGPR                   1           1                 1   \n",
      "AAAAAAAAAAAAAGAGAGAK                    1           1                 1   \n",
      "AAAAAAAAAAAPPAPPEGASPGDSAR              3           3                 3   \n",
      "AAAAAAAAAAGEGAR                         2           2                 2   \n",
      "...                                   ...         ...               ...   \n",
      "[UNIMOD:5]YYWIGGEATLDK                  1           1                 1   \n",
      "[UNIMOD:5]YYYDGDIGNYYYGQGHPMK           1           1                 1   \n",
      "[UNIMOD:5]YYYDGKDYIEFNK                 1           1                 1   \n",
      "[UNIMOD:5]YYYSIK                        1           1                 1   \n",
      "[UNIMOD:5]YYYYHR                        1           1                 1   \n",
      "\n",
      "                               precursor_mz  file_i  spectrum_i  \n",
      "sequence                                                         \n",
      "AAAAAAAAAAAAAAAGAGAGAK                   20      20          20  \n",
      "AAAAAAAAAAAAAATATAGPR                     1       1           1  \n",
      "AAAAAAAAAAAAAGAGAGAK                      1       1           1  \n",
      "AAAAAAAAAAAPPAPPEGASPGDSAR                3       3           3  \n",
      "AAAAAAAAAAGEGAR                           2       2           2  \n",
      "...                                     ...     ...         ...  \n",
      "[UNIMOD:5]YYWIGGEATLDK                    1       1           1  \n",
      "[UNIMOD:5]YYYDGDIGNYYYGQGHPMK             1       1           1  \n",
      "[UNIMOD:5]YYYDGKDYIEFNK                   1       1           1  \n",
      "[UNIMOD:5]YYYSIK                          1       1           1  \n",
      "[UNIMOD:5]YYYYHR                          1       1           1  \n",
      "\n",
      "[660759 rows x 6 columns]\n"
     ]
    }
   ],
   "source": [
    "unique_labels = labels.groupby('sequence').count()\n",
    "print(unique_labels)"
   ],
   "metadata": {
    "collapsed": false,
    "pycharm": {
     "name": "#%%\n"
    }
   }
  },
  {
   "cell_type": "code",
   "execution_count": null,
   "outputs": [],
   "source": [
    "unique_labels.to_csv('unique_labels.csv')"
   ],
   "metadata": {
    "collapsed": false,
    "pycharm": {
     "name": "#%%\n"
    }
   }
  },
  {
   "cell_type": "code",
   "execution_count": 14,
   "outputs": [
    {
     "data": {
      "text/plain": "              development    tissue  prop_label   prop_sp  identifier  \\\nspectrometer                                                            \nElite            18967190  18967190    0.422414  0.758916    18967190   \nVelos             6025290   6025290    0.410807  0.241084     6025290   \n\n              precursor_charge  precursor_mz  sequence  \nspectrometer                                            \nElite                 18967190      18967190   8012005  \nVelos                  6025290       6025290   2475230  ",
      "text/html": "<div>\n<style scoped>\n    .dataframe tbody tr th:only-of-type {\n        vertical-align: middle;\n    }\n\n    .dataframe tbody tr th {\n        vertical-align: top;\n    }\n\n    .dataframe thead th {\n        text-align: right;\n    }\n</style>\n<table border=\"1\" class=\"dataframe\">\n  <thead>\n    <tr style=\"text-align: right;\">\n      <th></th>\n      <th>development</th>\n      <th>tissue</th>\n      <th>prop_label</th>\n      <th>prop_sp</th>\n      <th>identifier</th>\n      <th>precursor_charge</th>\n      <th>precursor_mz</th>\n      <th>sequence</th>\n    </tr>\n    <tr>\n      <th>spectrometer</th>\n      <th></th>\n      <th></th>\n      <th></th>\n      <th></th>\n      <th></th>\n      <th></th>\n      <th></th>\n      <th></th>\n    </tr>\n  </thead>\n  <tbody>\n    <tr>\n      <th>Elite</th>\n      <td>18967190</td>\n      <td>18967190</td>\n      <td>0.422414</td>\n      <td>0.758916</td>\n      <td>18967190</td>\n      <td>18967190</td>\n      <td>18967190</td>\n      <td>8012005</td>\n    </tr>\n    <tr>\n      <th>Velos</th>\n      <td>6025290</td>\n      <td>6025290</td>\n      <td>0.410807</td>\n      <td>0.241084</td>\n      <td>6025290</td>\n      <td>6025290</td>\n      <td>6025290</td>\n      <td>2475230</td>\n    </tr>\n  </tbody>\n</table>\n</div>"
     },
     "execution_count": 14,
     "metadata": {},
     "output_type": "execute_result"
    }
   ],
   "source": [
    "nsp = len(sp_id)\n",
    "\n",
    "msp = sp_id.groupby('spectrometer').count()\n",
    "msp_prop_label = msp['sequence'].to_numpy() / msp['identifier'].to_numpy()\n",
    "msp_prop_sp = msp['identifier'].to_numpy() / nsp\n",
    "\n",
    "msp.insert(2, 'prop_label', msp_prop_label)\n",
    "msp.insert(3, 'prop_sp', msp_prop_sp)\n",
    "msp"
   ],
   "metadata": {
    "collapsed": false,
    "pycharm": {
     "name": "#%%\n"
    }
   }
  },
  {
   "cell_type": "code",
   "execution_count": 13,
   "outputs": [
    {
     "name": "stdout",
     "output_type": "stream",
     "text": [
      "24992480\n"
     ]
    }
   ],
   "source": [
    "print(nsp)"
   ],
   "metadata": {
    "collapsed": false,
    "pycharm": {
     "name": "#%%\n"
    }
   }
  }
 ],
 "metadata": {
  "kernelspec": {
   "name": "falcon",
   "language": "python",
   "display_name": "falcon"
  },
  "language_info": {
   "codemirror_mode": {
    "name": "ipython",
    "version": 2
   },
   "file_extension": ".py",
   "mimetype": "text/x-python",
   "name": "python",
   "nbconvert_exporter": "python",
   "pygments_lexer": "ipython2",
   "version": "2.7.6"
  }
 },
 "nbformat": 4,
 "nbformat_minor": 0
}